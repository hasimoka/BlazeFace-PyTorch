{
  "nbformat": 4,
  "nbformat_minor": 0,
  "metadata": {
    "colab": {
      "provenance": [],
      "mount_file_id": "https://github.com/hasimoka/BlazeFace-PyTorch/blob/master/ConvertToONNX.ipynb",
      "authorship_tag": "ABX9TyNG7u9ZAVXji8pfnMwc6MGp",
      "include_colab_link": true
    },
    "kernelspec": {
      "name": "python3",
      "display_name": "Python 3"
    },
    "language_info": {
      "name": "python"
    }
  },
  "cells": [
    {
      "cell_type": "markdown",
      "metadata": {
        "id": "view-in-github",
        "colab_type": "text"
      },
      "source": [
        "<a href=\"https://colab.research.google.com/github/hasimoka/BlazeFace-PyTorch/blob/master/ConvertToONNX.ipynb\" target=\"_parent\"><img src=\"https://colab.research.google.com/assets/colab-badge.svg\" alt=\"Open In Colab\"/></a>"
      ]
    },
    {
      "cell_type": "markdown",
      "source": [
        "# Convert Pytorch model to ONNX"
      ],
      "metadata": {
        "id": "3ZRkUMRBp-Kq"
      }
    },
    {
      "cell_type": "code",
      "source": [
        "!git clone https://github.com/hasimoka/BlazeFace-PyTorch.git\n",
        "%cd BlazeFace-PyTorch/"
      ],
      "metadata": {
        "colab": {
          "base_uri": "https://localhost:8080/"
        },
        "id": "1wi7kQHJqHZ-",
        "outputId": "d8220396-f131-416e-9f15-2248c8158f1a"
      },
      "execution_count": 1,
      "outputs": [
        {
          "output_type": "stream",
          "name": "stdout",
          "text": [
            "Cloning into 'BlazeFace-PyTorch'...\n",
            "remote: Enumerating objects: 24, done.\u001b[K\n",
            "remote: Counting objects: 100% (10/10), done.\u001b[K\n",
            "remote: Compressing objects: 100% (10/10), done.\u001b[K\n",
            "remote: Total 24 (delta 2), reused 0 (delta 0), pack-reused 14\u001b[K\n",
            "Receiving objects: 100% (24/24), 1.89 MiB | 9.20 MiB/s, done.\n",
            "Resolving deltas: 100% (5/5), done.\n",
            "/content/BlazeFace-PyTorch\n"
          ]
        }
      ]
    },
    {
      "cell_type": "markdown",
      "source": [
        "## PyTorchモデルをONNXモデルに変換する"
      ],
      "metadata": {
        "id": "d3hzGxPY4I1z"
      }
    },
    {
      "cell_type": "code",
      "source": [
        "!pip install onnx onnxscript"
      ],
      "metadata": {
        "colab": {
          "base_uri": "https://localhost:8080/"
        },
        "id": "5jXpveYP3_el",
        "outputId": "92fc53df-9db1-4fcf-8e19-757349e2d7ed"
      },
      "execution_count": 16,
      "outputs": [
        {
          "output_type": "stream",
          "name": "stdout",
          "text": [
            "Collecting onnx\n",
            "  Downloading onnx-1.16.0-cp310-cp310-manylinux_2_17_x86_64.manylinux2014_x86_64.whl (15.9 MB)\n",
            "\u001b[2K     \u001b[90m━━━━━━━━━━━━━━━━━━━━━━━━━━━━━━━━━━━━━━━━\u001b[0m \u001b[32m15.9/15.9 MB\u001b[0m \u001b[31m27.0 MB/s\u001b[0m eta \u001b[36m0:00:00\u001b[0m\n",
            "\u001b[?25hCollecting onnxscript\n",
            "  Downloading onnxscript-0.1.0.dev20240409-py3-none-any.whl (575 kB)\n",
            "\u001b[2K     \u001b[90m━━━━━━━━━━━━━━━━━━━━━━━━━━━━━━━━━━━━━━━━\u001b[0m \u001b[32m575.2/575.2 kB\u001b[0m \u001b[31m42.0 MB/s\u001b[0m eta \u001b[36m0:00:00\u001b[0m\n",
            "\u001b[?25hRequirement already satisfied: numpy>=1.20 in /usr/local/lib/python3.10/dist-packages (from onnx) (1.25.2)\n",
            "Requirement already satisfied: protobuf>=3.20.2 in /usr/local/lib/python3.10/dist-packages (from onnx) (3.20.3)\n",
            "Requirement already satisfied: typing-extensions in /usr/local/lib/python3.10/dist-packages (from onnxscript) (4.10.0)\n",
            "Installing collected packages: onnx, onnxscript\n",
            "Successfully installed onnx-1.16.0 onnxscript-0.1.0.dev20240409\n"
          ]
        }
      ]
    },
    {
      "cell_type": "code",
      "source": [
        "import torch\n",
        "from blazeface import BlazeFace\n",
        "\n",
        "torch_model = BlazeFace()\n",
        "torch_model.load_weights('blazeface.pth')\n",
        "torch_model.load_anchors('anchors.npy')\n",
        "torch_model.eval()\n",
        "\n",
        "torch_input = torch.randn(1, 3, 128, 128)\n",
        "\n",
        "# Export the model\n",
        "onnx_program = torch.onnx.dynamo_export(torch_model, torch_input)\n",
        "onnx_program.save(\"blazeface.onnx\")"
      ],
      "metadata": {
        "colab": {
          "base_uri": "https://localhost:8080/"
        },
        "id": "GQ1uGeGq4Vaj",
        "outputId": "817ba87b-320b-4184-b904-ccc8fba95a22"
      },
      "execution_count": 20,
      "outputs": [
        {
          "output_type": "stream",
          "name": "stderr",
          "text": [
            "/usr/local/lib/python3.10/dist-packages/torch/onnx/_internal/exporter.py:137: UserWarning: torch.onnx.dynamo_export only implements opset version 18 for now. If you need to use a different opset version, please register them with register_custom_op.\n",
            "  warnings.warn(\n"
          ]
        }
      ]
    },
    {
      "cell_type": "markdown",
      "source": [
        "backモデルの変換"
      ],
      "metadata": {
        "id": "oEVZFbQX46GO"
      }
    },
    {
      "cell_type": "code",
      "source": [
        "torch_back_model = BlazeFace(back_model=True)\n",
        "torch_back_model.load_weights('blazefaceback.pth')\n",
        "torch_back_model.load_anchors('anchorsback.npy')\n",
        "torch_back_model.eval()\n",
        "\n",
        "torch_back_input = torch.randn(1, 3, 256, 256)\n",
        "\n",
        "# Export the model\n",
        "onnx_back_program = torch.onnx.dynamo_export(torch_back_model, torch_back_input)\n",
        "onnx_back_program.save(\"blazefaceback.onnx\")"
      ],
      "metadata": {
        "colab": {
          "base_uri": "https://localhost:8080/"
        },
        "id": "esSI8ww-4zTs",
        "outputId": "c4754827-3e77-4560-9963-437932496fb5"
      },
      "execution_count": 21,
      "outputs": [
        {
          "output_type": "stream",
          "name": "stderr",
          "text": [
            "/usr/local/lib/python3.10/dist-packages/torch/onnx/_internal/exporter.py:137: UserWarning: torch.onnx.dynamo_export only implements opset version 18 for now. If you need to use a different opset version, please register them with register_custom_op.\n",
            "  warnings.warn(\n"
          ]
        }
      ]
    },
    {
      "cell_type": "code",
      "source": [],
      "metadata": {
        "id": "fTXNCxmv4syU"
      },
      "execution_count": null,
      "outputs": []
    }
  ]
}
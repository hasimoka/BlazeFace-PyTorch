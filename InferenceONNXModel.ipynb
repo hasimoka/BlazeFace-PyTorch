{
  "nbformat": 4,
  "nbformat_minor": 0,
  "metadata": {
    "colab": {
      "provenance": [],
      "mount_file_id": "https://github.com/hasimoka/BlazeFace-PyTorch/blob/master/InferenceONNXModel.ipynb",
      "authorship_tag": "ABX9TyN5zBgPhI/dIc2G3up+gDNd",
      "include_colab_link": true
    },
    "kernelspec": {
      "name": "python3",
      "display_name": "Python 3"
    },
    "language_info": {
      "name": "python"
    }
  },
  "cells": [
    {
      "cell_type": "markdown",
      "metadata": {
        "id": "view-in-github",
        "colab_type": "text"
      },
      "source": [
        "<a href=\"https://colab.research.google.com/github/hasimoka/BlazeFace-PyTorch/blob/master/InferenceONNXModel.ipynb\" target=\"_parent\"><img src=\"https://colab.research.google.com/assets/colab-badge.svg\" alt=\"Open In Colab\"/></a>"
      ]
    },
    {
      "cell_type": "code",
      "execution_count": 1,
      "metadata": {
        "id": "OAPpcBsY7N5e",
        "outputId": "a879e500-00c8-4c2e-a574-06cc05f294bd",
        "colab": {
          "base_uri": "https://localhost:8080/"
        }
      },
      "outputs": [
        {
          "output_type": "stream",
          "name": "stdout",
          "text": [
            "Drive already mounted at /content/drive; to attempt to forcibly remount, call drive.mount(\"/content/drive\", force_remount=True).\n",
            "/content/drive/MyDrive/BlazeFace-PyTorch\n"
          ]
        }
      ],
      "source": [
        "from google.colab import drive\n",
        "drive.mount('/content/drive')\n",
        "\n",
        "%cd /content/drive/MyDrive/BlazeFace-PyTorch/"
      ]
    },
    {
      "cell_type": "code",
      "source": [
        "!pip install onnxruntime"
      ],
      "metadata": {
        "id": "AcFWpcUbo9mW",
        "outputId": "c196858a-c053-4e0a-f6cd-1e955c65570c",
        "colab": {
          "base_uri": "https://localhost:8080/"
        }
      },
      "execution_count": 2,
      "outputs": [
        {
          "output_type": "stream",
          "name": "stdout",
          "text": [
            "Requirement already satisfied: onnxruntime in /usr/local/lib/python3.10/dist-packages (1.17.1)\n",
            "Requirement already satisfied: coloredlogs in /usr/local/lib/python3.10/dist-packages (from onnxruntime) (15.0.1)\n",
            "Requirement already satisfied: flatbuffers in /usr/local/lib/python3.10/dist-packages (from onnxruntime) (24.3.25)\n",
            "Requirement already satisfied: numpy>=1.21.6 in /usr/local/lib/python3.10/dist-packages (from onnxruntime) (1.25.2)\n",
            "Requirement already satisfied: packaging in /usr/local/lib/python3.10/dist-packages (from onnxruntime) (24.0)\n",
            "Requirement already satisfied: protobuf in /usr/local/lib/python3.10/dist-packages (from onnxruntime) (3.20.3)\n",
            "Requirement already satisfied: sympy in /usr/local/lib/python3.10/dist-packages (from onnxruntime) (1.12)\n",
            "Requirement already satisfied: humanfriendly>=9.1 in /usr/local/lib/python3.10/dist-packages (from coloredlogs->onnxruntime) (10.0)\n",
            "Requirement already satisfied: mpmath>=0.19 in /usr/local/lib/python3.10/dist-packages (from sympy->onnxruntime) (1.3.0)\n"
          ]
        }
      ]
    },
    {
      "cell_type": "code",
      "source": [
        "import blazeface_with_onnx as blazeface\n",
        "\n",
        "model = blazeface.BlazeFaceWithOnnx()\n",
        "model.load_anchors(\"./anchors.npy\")"
      ],
      "metadata": {
        "id": "879AK9pPo--K"
      },
      "execution_count": 10,
      "outputs": []
    },
    {
      "cell_type": "code",
      "source": [
        "import cv2\n",
        "\n",
        "img = cv2.imread(\"./1face.png\")\n",
        "img = cv2.cvtColor(img, cv2.COLOR_BGR2RGB)\n",
        "\n",
        "front_detections = model.predict_on_image(img)\n",
        "print(front_detections)\n",
        "print(front_detections.shape)"
      ],
      "metadata": {
        "id": "ayLTnYWysDwl",
        "colab": {
          "base_uri": "https://localhost:8080/"
        },
        "outputId": "9fdae8f4-e943-46f8-9155-b4a8eec142b0"
      },
      "execution_count": 11,
      "outputs": [
        {
          "output_type": "stream",
          "name": "stdout",
          "text": [
            "box_a.shape: (1, 4)\n",
            "box_b.shape: (2, 4)\n",
            "((box_a[:, 2]-box_a[:, 0])*(box_a[:, 3]-box_a[:, 1]))[:, np.newaxis]: [[0.02780628 0.02780628]]\n",
            "[[0.2714351  0.317134   0.4415536  0.4872523  0.3863073  0.31266788\n",
            "  0.46129563 0.3186052  0.43995076 0.35565478 0.432756   0.3914948\n",
            "  0.3153791  0.32960063 0.47782823 0.3367067  0.99599206]]\n",
            "(1, 17)\n"
          ]
        }
      ]
    },
    {
      "cell_type": "code",
      "source": [],
      "metadata": {
        "id": "kiUDLp5t961B"
      },
      "execution_count": null,
      "outputs": []
    }
  ]
}